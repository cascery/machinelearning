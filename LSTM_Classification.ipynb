{
 "cells": [
  {
   "cell_type": "code",
   "execution_count": 16,
   "metadata": {},
   "outputs": [],
   "source": [
    "#Import the libraries\n",
    "import math\n",
    "import numpy as np\n",
    "import pandas as pd\n",
    "from sklearn.preprocessing import MinMaxScaler\n",
    "from keras.models import Sequential\n",
    "from keras.layers import Dense, LSTM\n",
    "import matplotlib.pyplot as plt\n",
    "plt.style.use('fivethirtyeight')"
   ]
  },
  {
   "cell_type": "code",
   "execution_count": 17,
   "metadata": {},
   "outputs": [
    {
     "name": "stdout",
     "output_type": "stream",
     "text": [
      "(106, 1024)\n"
     ]
    }
   ],
   "source": [
    "features1 = np.array(np.load('d:/faces/Person1/Normal/face_repr.npy'))\n",
    "features2 = np.array(np.load('d:/faces/Person1/happy/face_repr.npy'))\n",
    "features=np.concatenate((features1,features2))\n",
    "\n",
    "print(features.shape)"
   ]
  },
  {
   "cell_type": "code",
   "execution_count": 18,
   "metadata": {},
   "outputs": [
    {
     "name": "stdout",
     "output_type": "stream",
     "text": [
      "10\n"
     ]
    }
   ],
   "source": [
    "#training_dataset_length = math.ceil(len(features) * .75)\n",
    "training_dataset_length =10\n",
    "print(training_dataset_length)"
   ]
  },
  {
   "cell_type": "code",
   "execution_count": 19,
   "metadata": {},
   "outputs": [
    {
     "data": {
      "text/plain": [
       "(106, 1024)"
      ]
     },
     "execution_count": 19,
     "metadata": {},
     "output_type": "execute_result"
    }
   ],
   "source": [
    "#Scale the all of the data to be values between 0 and 1 \n",
    "scaler = MinMaxScaler(feature_range=(0, 1)) \n",
    "scaled_data = scaler.fit_transform(features)\n",
    "features.shape"
   ]
  },
  {
   "cell_type": "code",
   "execution_count": 20,
   "metadata": {},
   "outputs": [
    {
     "name": "stdout",
     "output_type": "stream",
     "text": [
      "(50, 1024)\n",
      "[[1. 0.]\n",
      " [1. 0.]\n",
      " [1. 0.]\n",
      " [1. 0.]\n",
      " [1. 0.]\n",
      " [1. 0.]\n",
      " [1. 0.]\n",
      " [1. 0.]\n",
      " [1. 0.]\n",
      " [1. 0.]\n",
      " [1. 0.]\n",
      " [1. 0.]\n",
      " [1. 0.]\n",
      " [1. 0.]\n",
      " [1. 0.]\n",
      " [1. 0.]\n",
      " [1. 0.]\n",
      " [1. 0.]\n",
      " [1. 0.]\n",
      " [1. 0.]\n",
      " [1. 0.]\n",
      " [1. 0.]\n",
      " [1. 0.]\n",
      " [1. 0.]\n",
      " [1. 0.]\n",
      " [1. 0.]\n",
      " [1. 0.]\n",
      " [1. 0.]\n",
      " [1. 0.]\n",
      " [1. 1.]\n",
      " [0. 1.]\n",
      " [0. 1.]\n",
      " [0. 1.]\n",
      " [0. 1.]\n",
      " [0. 1.]\n",
      " [0. 1.]\n",
      " [0. 1.]\n",
      " [0. 1.]\n",
      " [0. 1.]\n",
      " [0. 1.]\n",
      " [0. 1.]\n",
      " [0. 1.]\n",
      " [0. 1.]\n",
      " [0. 1.]\n",
      " [0. 1.]\n",
      " [0. 1.]\n",
      " [0. 1.]\n",
      " [0. 1.]\n",
      " [0. 1.]\n",
      " [0. 1.]]\n"
     ]
    }
   ],
   "source": [
    "train_data = scaled_data[0:training_dataset_length  , : ]\n",
    "\n",
    "#Splitting the data\n",
    "x_train=np.concatenate((features[0:30],features[69:89])) #[1:11]\n",
    "y_train = np.ones((2,50)) #[1,1,1,1,1,1,1,1,1,1]\n",
    "print(x_train.shape)\n",
    "y_train[0,30:]=0\n",
    "y_train[1,0:29]=0\n",
    "y_train=y_train.T\n",
    "print(y_train)\n",
    "\n",
    "#for i in range(10, len(train_data)):\n",
    "    #x_train.append(train_data[i-10:i,0])\n",
    "    #y_train.append(train_data[i,0])\n",
    " "
   ]
  },
  {
   "cell_type": "code",
   "execution_count": 21,
   "metadata": {},
   "outputs": [],
   "source": [
    "#Convert to numpy arrays\n",
    "x_train, y_train = np.array(x_train), np.array(y_train)\n",
    "\n",
    "#Reshape the data into 3-D array\n",
    "x_train = np.reshape(x_train, (x_train.shape[0],x_train.shape[1],1))"
   ]
  },
  {
   "cell_type": "code",
   "execution_count": 22,
   "metadata": {},
   "outputs": [],
   "source": [
    "from keras.layers import Dropout\n",
    "\n",
    "# Initialising the RNN\n",
    "model = Sequential()\n",
    "\n",
    "model.add(LSTM(units = 50, return_sequences = True, input_shape = (1024, 1)))\n",
    "model.add(Dropout(0.2))\n",
    "\n",
    "# Adding a second LSTM layer and Dropout layer\n",
    "model.add(LSTM(units = 50, return_sequences = True))\n",
    "model.add(Dropout(0.2))\n",
    "\n",
    "# Adding a third LSTM layer and Dropout layer\n",
    "model.add(LSTM(units = 50, return_sequences = True))\n",
    "model.add(Dropout(0.2))\n",
    "\n",
    "# Adding a fourth LSTM layer and and Dropout layer\n",
    "model.add(LSTM(units = 50))\n",
    "model.add(Dropout(0.2))\n",
    "\n",
    "# Adding the output layer\n",
    "# For Full connection layer we use dense\n",
    "# As the output is 1D so we use unit=1\n",
    "model.add(Dense(units = 2))"
   ]
  },
  {
   "cell_type": "code",
   "execution_count": 23,
   "metadata": {},
   "outputs": [
    {
     "name": "stdout",
     "output_type": "stream",
     "text": [
      "Epoch 1/50\n",
      "50/50 [==============================] - 24s 471ms/step - loss: 0.5092\n",
      "Epoch 2/50\n",
      "50/50 [==============================] - 4s 78ms/step - loss: 0.4838\n",
      "Epoch 3/50\n",
      "50/50 [==============================] - 3s 65ms/step - loss: 0.4568\n",
      "Epoch 4/50\n",
      "50/50 [==============================] - 3s 68ms/step - loss: 0.4241\n",
      "Epoch 5/50\n",
      "50/50 [==============================] - 3s 65ms/step - loss: 0.3900\n",
      "Epoch 6/50\n",
      "50/50 [==============================] - 3s 61ms/step - loss: 0.3579\n",
      "Epoch 7/50\n",
      "50/50 [==============================] - 3s 62ms/step - loss: 0.3316\n",
      "Epoch 8/50\n",
      "50/50 [==============================] - 3s 58ms/step - loss: 0.2979\n",
      "Epoch 9/50\n",
      "50/50 [==============================] - 3s 58ms/step - loss: 0.2914\n",
      "Epoch 10/50\n",
      "50/50 [==============================] - 3s 69ms/step - loss: 0.2759\n",
      "Epoch 11/50\n",
      "50/50 [==============================] - 3s 60ms/step - loss: 0.2511\n",
      "Epoch 12/50\n",
      "50/50 [==============================] - 3s 62ms/step - loss: 0.2257\n",
      "Epoch 13/50\n",
      "50/50 [==============================] - 3s 59ms/step - loss: 0.2047\n",
      "Epoch 14/50\n",
      "50/50 [==============================] - 3s 62ms/step - loss: 0.2009\n",
      "Epoch 15/50\n",
      "50/50 [==============================] - 3s 58ms/step - loss: 0.1954\n",
      "Epoch 16/50\n",
      "50/50 [==============================] - 3s 61ms/step - loss: 0.1996\n",
      "Epoch 17/50\n",
      "50/50 [==============================] - 3s 65ms/step - loss: 0.2054\n",
      "Epoch 18/50\n",
      "50/50 [==============================] - 3s 62ms/step - loss: 0.2134\n",
      "Epoch 19/50\n",
      "50/50 [==============================] - 3s 59ms/step - loss: 0.1946\n",
      "Epoch 20/50\n",
      "50/50 [==============================] - 3s 63ms/step - loss: 0.1880\n",
      "Epoch 21/50\n",
      "50/50 [==============================] - 3s 58ms/step - loss: 0.1855\n",
      "Epoch 22/50\n",
      "50/50 [==============================] - 3s 62ms/step - loss: 0.1764\n",
      "Epoch 23/50\n",
      "50/50 [==============================] - 3s 60ms/step - loss: 0.1701\n",
      "Epoch 24/50\n",
      "50/50 [==============================] - 3s 61ms/step - loss: 0.1723\n",
      "Epoch 25/50\n",
      "50/50 [==============================] - 3s 61ms/step - loss: 0.1624\n",
      "Epoch 26/50\n",
      "50/50 [==============================] - 3s 59ms/step - loss: 0.1788\n",
      "Epoch 27/50\n",
      "50/50 [==============================] - 3s 60ms/step - loss: 0.1793\n",
      "Epoch 28/50\n",
      "50/50 [==============================] - 3s 63ms/step - loss: 0.1670\n",
      "Epoch 29/50\n",
      "50/50 [==============================] - 3s 58ms/step - loss: 0.1654\n",
      "Epoch 30/50\n",
      "50/50 [==============================] - 3s 61ms/step - loss: 0.1547\n",
      "Epoch 31/50\n",
      "50/50 [==============================] - 3s 61ms/step - loss: 0.1772\n",
      "Epoch 32/50\n",
      "50/50 [==============================] - 3s 59ms/step - loss: 0.1635\n",
      "Epoch 33/50\n",
      "50/50 [==============================] - 3s 64ms/step - loss: 0.1596\n",
      "Epoch 34/50\n",
      "50/50 [==============================] - 3s 59ms/step - loss: 0.1656\n",
      "Epoch 35/50\n",
      "50/50 [==============================] - 3s 61ms/step - loss: 0.1681\n",
      "Epoch 36/50\n",
      "50/50 [==============================] - 3s 63ms/step - loss: 0.1693\n",
      "Epoch 37/50\n",
      "50/50 [==============================] - 3s 59ms/step - loss: 0.1623\n",
      "Epoch 38/50\n",
      "50/50 [==============================] - 3s 62ms/step - loss: 0.1637\n",
      "Epoch 39/50\n",
      "50/50 [==============================] - 3s 59ms/step - loss: 0.1672\n",
      "Epoch 40/50\n",
      "50/50 [==============================] - 3s 64ms/step - loss: 0.1688\n",
      "Epoch 41/50\n",
      "50/50 [==============================] - 3s 61ms/step - loss: 0.1695\n",
      "Epoch 42/50\n",
      "50/50 [==============================] - 3s 59ms/step - loss: 0.1557\n",
      "Epoch 43/50\n",
      "50/50 [==============================] - 3s 62ms/step - loss: 0.1590\n",
      "Epoch 44/50\n",
      "50/50 [==============================] - 3s 59ms/step - loss: 0.1604\n",
      "Epoch 45/50\n",
      "50/50 [==============================] - 3s 58ms/step - loss: 0.1609\n",
      "Epoch 46/50\n",
      "50/50 [==============================] - 3s 62ms/step - loss: 0.1569\n",
      "Epoch 47/50\n",
      "50/50 [==============================] - 3s 58ms/step - loss: 0.1601\n",
      "Epoch 48/50\n",
      "50/50 [==============================] - 3s 59ms/step - loss: 0.1709\n",
      "Epoch 49/50\n",
      "50/50 [==============================] - 3s 64ms/step - loss: 0.1679\n",
      "Epoch 50/50\n",
      "50/50 [==============================] - 3s 58ms/step - loss: 0.1669\n"
     ]
    },
    {
     "data": {
      "text/plain": [
       "<keras.callbacks.callbacks.History at 0x51fb3348>"
      ]
     },
     "execution_count": 23,
     "metadata": {},
     "output_type": "execute_result"
    }
   ],
   "source": [
    "#compile and fit the model on 30 epochs\n",
    "model.compile(optimizer = 'adam', loss = 'mean_squared_error')\n",
    "model.fit(x_train, y_train, epochs =50, batch_size = 50)"
   ]
  },
  {
   "cell_type": "code",
   "execution_count": 30,
   "metadata": {},
   "outputs": [
    {
     "name": "stdout",
     "output_type": "stream",
     "text": [
      "(50, 1024, 1)\n"
     ]
    }
   ],
   "source": [
    "#Test data set\n",
    "test_data = scaled_data[training_dataset_length - 10: , : ]\n",
    "\n",
    "#splitting the x_test and y_test data sets\n",
    "x_test = []\n",
    "y_test =  features[training_dataset_length : , : ] \n",
    "\n",
    "#for i in range(10,len(test_data)):\n",
    "    #x_test.append(test_data[i-10:i,0])\n",
    "    \n",
    "#Convert x_test to a numpy array \n",
    "x_test =np.concatenate((features[31:67],features[100:106]))\n",
    "x_test=x_train\n",
    "#x_test =features[100:106]\n",
    "x_test = np.array(x_test)\n",
    "\n",
    "#Reshape the data into 3-D array\n",
    "x_test = np.reshape(x_test, (x_test.shape[0],x_test.shape[1],1))\n",
    "y_test=[1,1,1]\n",
    "print(x_test.shape) \n"
   ]
  },
  {
   "cell_type": "code",
   "execution_count": 31,
   "metadata": {},
   "outputs": [],
   "source": [
    "#check predicted values\n",
    "predictions = model.predict(x_test) \n",
    "\n"
   ]
  },
  {
   "cell_type": "code",
   "execution_count": 32,
   "metadata": {},
   "outputs": [
    {
     "name": "stdout",
     "output_type": "stream",
     "text": [
      "[[0.7307544  0.2827309 ]\n",
      " [0.73130274 0.2821444 ]\n",
      " [0.73163044 0.2818555 ]\n",
      " [0.7322879  0.28132728]\n",
      " [0.7325287  0.28110608]\n",
      " [0.73266506 0.28096333]\n",
      " [0.7327026  0.28092316]\n",
      " [0.73282844 0.28082547]\n",
      " [0.7328506  0.28080103]\n",
      " [0.7329011  0.28076127]\n",
      " [0.73297167 0.2807086 ]\n",
      " [0.73299587 0.2806846 ]\n",
      " [0.7330025  0.28067666]\n",
      " [0.733018   0.2806635 ]\n",
      " [0.73303044 0.2806522 ]\n",
      " [0.73303807 0.28064597]\n",
      " [0.7330412  0.2806426 ]\n",
      " [0.73304486 0.28064004]\n",
      " [0.7330463  0.28063887]\n",
      " [0.73304826 0.28063688]\n",
      " [0.7330489  0.2806365 ]\n",
      " [0.7330507  0.28063485]\n",
      " [0.73305106 0.2806345 ]\n",
      " [0.73305154 0.2806342 ]\n",
      " [0.7330518  0.28063387]\n",
      " [0.7330518  0.28063384]\n",
      " [0.73305213 0.28063366]\n",
      " [0.73305225 0.28063354]\n",
      " [0.73305225 0.28063348]\n",
      " [0.7330525  0.28063333]\n",
      " [0.7330532  0.28063282]\n",
      " [0.7330532  0.28063282]\n",
      " [0.7330532  0.28063282]\n",
      " [0.7330532  0.28063282]\n",
      " [0.7330532  0.28063282]\n",
      " [0.7330532  0.28063282]\n",
      " [0.7330532  0.28063282]\n",
      " [0.7330532  0.28063282]\n",
      " [0.7330532  0.28063282]\n",
      " [0.7330532  0.28063282]\n",
      " [0.03768873 1.099661  ]\n",
      " [0.03209551 1.0994139 ]\n",
      " [0.03068951 1.0989825 ]\n",
      " [0.02636558 1.0780257 ]\n",
      " [0.02782441 1.0882933 ]\n",
      " [0.03536418 1.0445213 ]\n",
      " [0.02952967 1.0544854 ]\n",
      " [0.03736277 1.0354065 ]\n",
      " [0.10146237 0.9154409 ]\n",
      " [0.10642197 0.8916308 ]]\n"
     ]
    },
    {
     "ename": "ValueError",
     "evalue": "operands could not be broadcast together with shapes (50,2) (3,) ",
     "output_type": "error",
     "traceback": [
      "\u001b[1;31m---------------------------------------------------------------------------\u001b[0m",
      "\u001b[1;31mValueError\u001b[0m                                Traceback (most recent call last)",
      "\u001b[1;32m<ipython-input-32-c136d76a057c>\u001b[0m in \u001b[0;36m<module>\u001b[1;34m\u001b[0m\n\u001b[0;32m      1\u001b[0m \u001b[0mprint\u001b[0m\u001b[1;33m(\u001b[0m\u001b[0mpredictions\u001b[0m\u001b[1;33m)\u001b[0m\u001b[1;33m\u001b[0m\u001b[1;33m\u001b[0m\u001b[0m\n\u001b[1;32m----> 2\u001b[1;33m \u001b[0mrmse\u001b[0m\u001b[1;33m=\u001b[0m\u001b[0mnp\u001b[0m\u001b[1;33m.\u001b[0m\u001b[0msqrt\u001b[0m\u001b[1;33m(\u001b[0m\u001b[0mnp\u001b[0m\u001b[1;33m.\u001b[0m\u001b[0mmean\u001b[0m\u001b[1;33m(\u001b[0m\u001b[1;33m(\u001b[0m\u001b[1;33m(\u001b[0m\u001b[0mpredictions\u001b[0m\u001b[1;33m-\u001b[0m \u001b[0my_test\u001b[0m\u001b[1;33m)\u001b[0m\u001b[1;33m**\u001b[0m\u001b[1;36m2\u001b[0m\u001b[1;33m)\u001b[0m\u001b[1;33m)\u001b[0m\u001b[1;33m)\u001b[0m\u001b[1;33m\u001b[0m\u001b[1;33m\u001b[0m\u001b[0m\n\u001b[0m\u001b[0;32m      3\u001b[0m \u001b[0mrmse\u001b[0m\u001b[1;33m\u001b[0m\u001b[1;33m\u001b[0m\u001b[0m\n\u001b[0;32m      4\u001b[0m \u001b[1;33m\u001b[0m\u001b[0m\n",
      "\u001b[1;31mValueError\u001b[0m: operands could not be broadcast together with shapes (50,2) (3,) "
     ]
    }
   ],
   "source": [
    "print(predictions)\n",
    "rmse=np.sqrt(np.mean(((predictions- y_test)**2)))\n",
    "rmse\n",
    "\n"
   ]
  },
  {
   "cell_type": "code",
   "execution_count": 13,
   "metadata": {},
   "outputs": [],
   "source": [
    "#other tests\n",
    "x_test= np.load('d:/faces/Person1/Normal/face_repr.npy')\n",
    "x_test = np.array(x_test)\n",
    "#x_test = MinMaxScaler(feature_range=(0, 1)) \n",
    "x_test = np.reshape(x_test, (x_test.shape[0],x_test.shape[1],1))\n",
    "predictions = model.predict(x_test) "
   ]
  },
  {
   "cell_type": "code",
   "execution_count": 14,
   "metadata": {},
   "outputs": [
    {
     "data": {
      "text/plain": [
       "array([[1.0178009],\n",
       "       [1.0139829],\n",
       "       [1.0185387],\n",
       "       [1.0195675],\n",
       "       [1.0146147],\n",
       "       [1.0159515],\n",
       "       [1.0141475],\n",
       "       [1.017096 ],\n",
       "       [1.0179207],\n",
       "       [1.0164765],\n",
       "       [1.0177388],\n",
       "       [1.0162747],\n",
       "       [1.0145141],\n",
       "       [1.0111527],\n",
       "       [1.0137037],\n",
       "       [1.0149783],\n",
       "       [1.017502 ],\n",
       "       [1.018423 ],\n",
       "       [1.0211189],\n",
       "       [1.0188966],\n",
       "       [1.0162677],\n",
       "       [1.014932 ],\n",
       "       [1.0179104],\n",
       "       [1.018077 ]], dtype=float32)"
      ]
     },
     "execution_count": 14,
     "metadata": {},
     "output_type": "execute_result"
    }
   ],
   "source": [
    "predictions"
   ]
  },
  {
   "cell_type": "code",
   "execution_count": 14,
   "metadata": {},
   "outputs": [
    {
     "name": "stdout",
     "output_type": "stream",
     "text": [
      "[[-0.03317452  0.02461971  0.07817355 ...  0.00781967 -0.02200413\n",
      "   0.00174987]\n",
      " [-0.03084525  0.02794943  0.08092289 ... -0.00420234 -0.00380496\n",
      "  -0.00387159]\n",
      " [-0.00918369  0.05201913  0.10367122 ...  0.000689   -0.00537141\n",
      "   0.01241956]\n",
      " ...\n",
      " [-0.03607735  0.03372759  0.10282868 ... -0.01260461 -0.04441839\n",
      "   0.00993899]\n",
      " [-0.03301831  0.04360268  0.09816383 ... -0.00620522 -0.03252188\n",
      "  -0.00737865]\n",
      " [-0.0323858   0.02097484  0.08453061 ...  0.01415588 -0.0325042\n",
      "   0.01263599]]\n"
     ]
    }
   ],
   "source": [
    "print(x_test)"
   ]
  },
  {
   "cell_type": "code",
   "execution_count": 16,
   "metadata": {},
   "outputs": [
    {
     "data": {
      "text/plain": [
       "(1, 10, 1)"
      ]
     },
     "execution_count": 16,
     "metadata": {},
     "output_type": "execute_result"
    }
   ],
   "source": [
    "np.shape(x_test)\n",
    "np.shape(x_train)"
   ]
  },
  {
   "cell_type": "code",
   "execution_count": 18,
   "metadata": {},
   "outputs": [
    {
     "name": "stdout",
     "output_type": "stream",
     "text": [
      "[[[0.22451591]\n",
      "  [0.        ]\n",
      "  [0.19601765]\n",
      "  [0.24201467]\n",
      "  [0.5045395 ]\n",
      "  [0.02253823]\n",
      "  [0.48225734]\n",
      "  [0.80237682]\n",
      "  [0.80035761]\n",
      "  [0.61944591]]]\n"
     ]
    }
   ],
   "source": [
    "print(x_train)"
   ]
  },
  {
   "cell_type": "code",
   "execution_count": 21,
   "metadata": {},
   "outputs": [
    {
     "name": "stdout",
     "output_type": "stream",
     "text": [
      "[0.70714601]\n",
      "(11, 128)\n"
     ]
    }
   ],
   "source": [
    "print(y_train)\n",
    "print(np.shape(train_data))"
   ]
  },
  {
   "cell_type": "code",
   "execution_count": 26,
   "metadata": {},
   "outputs": [
    {
     "data": {
      "text/plain": [
       "11"
      ]
     },
     "execution_count": 26,
     "metadata": {},
     "output_type": "execute_result"
    }
   ],
   "source": [
    "len(train_data)"
   ]
  },
  {
   "cell_type": "code",
   "execution_count": 28,
   "metadata": {},
   "outputs": [
    {
     "data": {
      "text/plain": [
       "10"
      ]
     },
     "execution_count": 28,
     "metadata": {},
     "output_type": "execute_result"
    }
   ],
   "source": [
    "x_train.shape[1]"
   ]
  },
  {
   "cell_type": "code",
   "execution_count": 29,
   "metadata": {},
   "outputs": [
    {
     "data": {
      "text/plain": [
       "(1,)"
      ]
     },
     "execution_count": 29,
     "metadata": {},
     "output_type": "execute_result"
    }
   ],
   "source": [
    "y_train.shape"
   ]
  },
  {
   "cell_type": "code",
   "execution_count": 30,
   "metadata": {},
   "outputs": [
    {
     "data": {
      "text/plain": [
       "1"
      ]
     },
     "execution_count": 30,
     "metadata": {},
     "output_type": "execute_result"
    }
   ],
   "source": [
    "np.size(y_train)"
   ]
  },
  {
   "cell_type": "code",
   "execution_count": 7,
   "metadata": {},
   "outputs": [
    {
     "data": {
      "text/plain": [
       "128"
      ]
     },
     "execution_count": 7,
     "metadata": {},
     "output_type": "execute_result"
    }
   ],
   "source": [
    "x_train.shape[1]"
   ]
  },
  {
   "cell_type": "code",
   "execution_count": 10,
   "metadata": {},
   "outputs": [
    {
     "data": {
      "text/plain": [
       "(14, 128, 1)"
      ]
     },
     "execution_count": 10,
     "metadata": {},
     "output_type": "execute_result"
    }
   ],
   "source": [
    "x_train.shape"
   ]
  },
  {
   "cell_type": "code",
   "execution_count": 14,
   "metadata": {},
   "outputs": [
    {
     "data": {
      "text/plain": [
       "(3, 10, 1)"
      ]
     },
     "execution_count": 14,
     "metadata": {},
     "output_type": "execute_result"
    }
   ],
   "source": [
    "x_test.shape"
   ]
  },
  {
   "cell_type": "code",
   "execution_count": 20,
   "metadata": {},
   "outputs": [
    {
     "name": "stdout",
     "output_type": "stream",
     "text": [
      "(9, 128)\n"
     ]
    }
   ],
   "source": [
    "x_train=features[1:10]\n",
    "print(x_train.shape)"
   ]
  },
  {
   "cell_type": "code",
   "execution_count": null,
   "metadata": {},
   "outputs": [],
   "source": []
  }
 ],
 "metadata": {
  "kernelspec": {
   "display_name": "Python 3",
   "language": "python",
   "name": "python3"
  },
  "language_info": {
   "codemirror_mode": {
    "name": "ipython",
    "version": 3
   },
   "file_extension": ".py",
   "mimetype": "text/x-python",
   "name": "python",
   "nbconvert_exporter": "python",
   "pygments_lexer": "ipython3",
   "version": "3.7.6"
  }
 },
 "nbformat": 4,
 "nbformat_minor": 4
}
